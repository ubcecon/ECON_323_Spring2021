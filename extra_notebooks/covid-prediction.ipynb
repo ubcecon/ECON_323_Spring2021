{
 "cells": [
  {
   "cell_type": "markdown",
   "metadata": {},
   "source": [
    "# Predicting Corona Virus\n",
    "\n",
    "> **Authors**\n",
    "- [Paul Schrimpf *UBC*](https://economics.ubc.ca/faculty-and-staff/paul-schrimpf/)\n",
    "- [Peifan Wu *UBC*](https://economics.ubc.ca/faculty-and-staff/peifan-wu/)\n",
    "\n",
    "\n",
    "**Prerequisites**\n",
    "\n",
    "- [Regression](regression.ipynb)  \n",
    "- [Visualizing Corona Virus](covid-trends.ipynb)  \n",
    "\n",
    "\n",
    "**Outcomes**\n",
    "\n",
    "- Apply prediction methods to data on Corona Virus  "
   ]
  },
  {
   "cell_type": "markdown",
   "metadata": {},
   "source": [
    "## Outline\n",
    "\n",
    "- [Predicting Corona Virus](#Predicting-Corona-Virus)  \n",
    "  - [Introduction](#Introduction)  \n",
    "  - [Data](#Data)  \n",
    "  - [Predicting growth rates](#Predicting-growth-rates)  \n",
    "  - [Exercises](#Exercises)  "
   ]
  },
  {
   "cell_type": "code",
   "execution_count": 1,
   "metadata": {
    "hide-output": false
   },
   "outputs": [],
   "source": [
    "# Uncomment following line to install on colab\n",
    "#! pip install qeds fiona geopandas xgboost gensim folium pyLDAvis descartes"
   ]
  },
  {
   "cell_type": "markdown",
   "metadata": {},
   "source": [
    "## Introduction\n",
    "\n",
    "This notebook works with daily data on Covid-19 cases by country and\n",
    "region.  It will fit a simple model to predict growth rates. Note that\n",
    "this model is intended for teaching, and its projections should be\n",
    "taken with a grain of salt."
   ]
  },
  {
   "cell_type": "code",
   "execution_count": 2,
   "metadata": {
    "hide-output": false
   },
   "outputs": [
    {
     "name": "stderr",
     "output_type": "stream",
     "text": [
      "/home/paul/.local/lib/python3.8/site-packages/pandas_datareader/compat/__init__.py:7: FutureWarning: pandas.util.testing is deprecated. Use the functions in the public API at pandas.testing instead.\n",
      "  from pandas.util.testing import assert_frame_equal\n"
     ]
    }
   ],
   "source": [
    "import pandas as pd\n",
    "import numpy as np\n",
    "import matplotlib.pyplot as plt\n",
    "from sklearn import (\n",
    "    linear_model, metrics, neural_network, pipeline, model_selection, preprocessing\n",
    ")\n",
    "from pandas_datareader import wb # Use WorldBank data from pandas-datareader\n",
    "\n",
    "%matplotlib inline\n",
    "# activate plot theme\n",
    "import qeds\n",
    "qeds.themes.mpl_style();"
   ]
  },
  {
   "cell_type": "markdown",
   "metadata": {},
   "source": [
    "## Data"
   ]
  },
  {
   "cell_type": "markdown",
   "metadata": {},
   "source": [
    "### Corona Virus Cases\n",
    "\n",
    "We will use data from [Johns Hopkins University Center for Systems\n",
    "Science and\n",
    "Engineering](https://github.com/CSSEGISandData/COVID-19) . It is\n",
    "gathered from a variety of sources and updated daily. JHU CSSE uses\n",
    "the data for [this interactive\n",
    "website.](https://coronavirus.jhu.edu/map.html)\n",
    "\n",
    "JHU CSSE has the data on github. It gets updated daily."
   ]
  },
  {
   "cell_type": "code",
   "execution_count": 3,
   "metadata": {
    "hide-output": false
   },
   "outputs": [],
   "source": [
    " confirmed = pd.read_csv('https://raw.githubusercontent.com/CSSEGISandData/COVID-19/master/csse_covid_19_data/csse_covid_19_time_series/time_series_covid19_confirmed_global.csv')\n",
    " deaths = pd.read_csv('https://raw.githubusercontent.com/CSSEGISandData/COVID-19/master/csse_covid_19_data/csse_covid_19_time_series/time_series_covid19_deaths_global.csv')\n",
    " recoveries = pd.read_csv('https://raw.githubusercontent.com/CSSEGISandData/COVID-19/master/csse_covid_19_data/csse_covid_19_time_series/time_series_covid19_recovered_global.csv')\n",
    "\n",
    " ids = [\"Province/State\",\"Country/Region\", \"Lat\",\"Long\"]\n",
    " confirmed=confirmed.melt(id_vars=ids, var_name=\"Date\", value_name=\"cases\")\n",
    " deaths=deaths.melt(id_vars=ids,var_name=\"Date\", value_name=\"deaths\")\n",
    " recoveries=recoveries.melt(id_vars=ids,var_name=\"Date\", value_name=\"recoveries\")\n",
    "\n",
    " covid = pd.merge(confirmed, deaths, on=ids.append(\"Date\"), how='outer')\n",
    " covid = pd.merge(covid, recoveries, on=ids.append(\"Date\"), how='left')\n",
    "\n",
    " covid[\"Date\"] = pd.to_datetime(covid[\"Date\"])\n",
    " covid[\"Province/State\"]=covid[\"Province/State\"].fillna(\"\")\n",
    "\n",
    "covid.groupby(\"Country/Region\").get_group(\"Canada\").groupby(\"Province/State\").tail(1)\n",
    "country=covid.groupby([\"Country/Region\",\"Date\"]).sum()"
   ]
  },
  {
   "cell_type": "markdown",
   "metadata": {},
   "source": [
    "### World Bank Data\n",
    "\n",
    "We are going to try to predict the spread of Covid from country\n",
    "characteristics. We will use data from the World Bank, through\n",
    "the World Bank API from [pandas-datareader](https://pandas-datareader.readthedocs.io/en/latest/readers/world-bank.html)\n",
    "\n",
    "We will use the following indicators. You may want to modify them.\n",
    "There’s a table of indicators on [the World Bank\n",
    "website.](http://wdi.worldbank.org/tables)"
   ]
  },
  {
   "cell_type": "code",
   "execution_count": 4,
   "metadata": {
    "hide-output": false
   },
   "outputs": [],
   "source": [
    "# list of indicators we'll use\n",
    "ind_use = [\n",
    "    # Population\n",
    "    \"SP.POP.TOTL\", \"SP.POP.DPND.OL\",\n",
    "    \"SP.POP.DPND.YG\", \"EN.POP.DNST\",\n",
    "    \"BG.GSR.NFSV.GD.ZS\",\"SP.URB.GROW\",\n",
    "    \"SP.URB.TOTL\",\n",
    "    # Economic\n",
    "    \"NY.GDP.MKTP.KD.ZG\", \"NY.GDP.PCAP.KD.ZG\",\n",
    "    # Migration & Remittances\n",
    "    \"SM.POP.TOTL\", \"BX.TRF.PWKR.CD.DT\",\n",
    "    \"BM.TRF.PWKR.CD.DT\",\n",
    "    # Tourism\n",
    "    \"ST.INT.ARVL\",\n",
    "    \"ST.INT.RCPT.CD\",\n",
    "    \"ST.INT.XPND.CD\",\n",
    "    # Health care\n",
    "    \"SH.XPD.CHEX.PC.CD\",\n",
    "    \"SH.XPD.OOPC.CH.ZS\",\n",
    "    \"SH.MED.PHYS.ZS\",\n",
    "    \"SH.MED.NUMW.P3\",\n",
    "    # Health, comorbitites\n",
    "    \"SH.PRV.SMOK.MA\",\n",
    "    \"SH.PRV.SMOK.FE\",\n",
    "    \"SH.TBS.INCD\",\n",
    "    \"SH.STA.DIAB.ZS\",\n",
    "    \"SP.DYN.LE00.IN\",\n",
    "    ]"
   ]
  },
  {
   "cell_type": "markdown",
   "metadata": {},
   "source": [
    "We now download these indicators from World Bank and merge with the Covid data."
   ]
  },
  {
   "cell_type": "code",
   "execution_count": 5,
   "metadata": {
    "hide-output": false
   },
   "outputs": [
    {
     "name": "stderr",
     "output_type": "stream",
     "text": [
      "<ipython-input-5-7ab0908cccbd>:6: UserWarning: Reading WDI data from disk. You probably do not want this if you have modified ind_use.\n",
      "  warnings.warn(\"Reading WDI data from disk. You probably do not want this if you have modified ind_use.\")\n"
     ]
    }
   ],
   "source": [
    "import os.path\n",
    "import warnings\n",
    "\n",
    "wdifile='./wdi.pkl'\n",
    "if (os.path.isfile(wdifile)) :\n",
    "    warnings.warn(\"Reading WDI data from disk. You probably do not want this if you have modified ind_use.\")\n",
    "    wdi = pd.read_pickle(wdifile)\n",
    "else :\n",
    "    def fixcountrynames(s):\n",
    "        trans = { \"Egypt, Arab Rep.\":\"Egypt\",\n",
    "        \"Slovak Republic\":\"Slovakia\",\n",
    "        \"Brunei Darussalam\":\"Brunei\",\n",
    "        \"United States\":\"US\",\n",
    "        \"Iran, Islamic Rep.\":\"Iran\",\n",
    "        \"Korea, Rep.\":\"Korea, South\",\n",
    "        \"Czech Republic\":\"Czechia\",\n",
    "        \"Russian Federation\":\"Russia\",\n",
    "        \"Congo, Dem. Rep.\":\"Congo (Kinshasa)\",\n",
    "        \"Venezuela, RB\":\"Venezuela\",\n",
    "        \"St. Lucia\":\"Saint Lucia\",\n",
    "        \"St. Vincent and the Grenadines\":\"Saint Vincent and the Grenadines\",\n",
    "        \"Congo, Rep.\":\"Republic of the Congo\",\n",
    "        \"Bahamas, The\":\"The Bahamas\",\n",
    "        \"Gambia, The\":\"The Gambia\"}\n",
    "        for t in trans :\n",
    "            s[\"Country/Region\"] = s[\"Country/Region\"].replace(t, trans[t])\n",
    "        return(s)\n",
    "\n",
    "    wdi = covid.drop(columns=[\"Date\",\"Province/State\",\"Lat\",\"Long\",\"cases\",\"deaths\",\"recoveries\"]).drop_duplicates()\n",
    "    for id in ind_use :\n",
    "        s=wb.download(indicator=id, country=\"all\", start=2005, end=2019).reset_index()\n",
    "\n",
    "        # use most recent non missing value\n",
    "        s=s.dropna().groupby(\"country\").last()\n",
    "        s=s.drop(columns=\"year\").reset_index()\n",
    "\n",
    "        # match country names to covid data\n",
    "        s=s.rename(columns={\"country\":\"Country/Region\"})\n",
    "        s=fixcountrynames(s)\n",
    "        wdi=pd.merge(wdi, s, how='left', on='Country/Region', validate=\"one_to_one\")\n",
    "    wdi.to_pickle(wdifile)"
   ]
  },
  {
   "cell_type": "code",
   "execution_count": 6,
   "metadata": {
    "hide-output": false
   },
   "outputs": [
    {
     "name": "stdout",
     "output_type": "stream",
     "text": [
      "<class 'pandas.core.frame.DataFrame'>\n",
      "Int64Index: 11375 entries, 0 to 11374\n",
      "Data columns (total 31 columns):\n",
      " #   Column             Non-Null Count  Dtype         \n",
      "---  ------             --------------  -----         \n",
      " 0   Country/Region     11375 non-null  object        \n",
      " 1   Date               11375 non-null  datetime64[ns]\n",
      " 2   Lat                11375 non-null  float64       \n",
      " 3   Long               11375 non-null  float64       \n",
      " 4   cases              11375 non-null  int64         \n",
      " 5   deaths             11375 non-null  int64         \n",
      " 6   recoveries         11375 non-null  float64       \n",
      " 7   SP.POP.TOTL        10140 non-null  float64       \n",
      " 8   SP.POP.DPND.OL     9815 non-null   float64       \n",
      " 9   SP.POP.DPND.YG     9815 non-null   float64       \n",
      " 10  EN.POP.DNST        10075 non-null  float64       \n",
      " 11  BG.GSR.NFSV.GD.ZS  9360 non-null   float64       \n",
      " 12  SP.URB.GROW        10075 non-null  float64       \n",
      " 13  SP.URB.TOTL        10075 non-null  float64       \n",
      " 14  NY.GDP.MKTP.KD.ZG  10075 non-null  float64       \n",
      " 15  NY.GDP.PCAP.KD.ZG  10075 non-null  float64       \n",
      " 16  SM.POP.TOTL        10075 non-null  float64       \n",
      " 17  BX.TRF.PWKR.CD.DT  9230 non-null   float64       \n",
      " 18  BM.TRF.PWKR.CD.DT  9230 non-null   float64       \n",
      " 19  ST.INT.ARVL        9750 non-null   float64       \n",
      " 20  ST.INT.RCPT.CD     9620 non-null   float64       \n",
      " 21  ST.INT.XPND.CD     9490 non-null   float64       \n",
      " 22  SH.XPD.CHEX.PC.CD  9945 non-null   float64       \n",
      " 23  SH.XPD.OOPC.CH.ZS  9945 non-null   float64       \n",
      " 24  SH.MED.PHYS.ZS     9880 non-null   float64       \n",
      " 25  SH.MED.NUMW.P3     9880 non-null   float64       \n",
      " 26  SH.PRV.SMOK.MA     7995 non-null   float64       \n",
      " 27  SH.PRV.SMOK.FE     8125 non-null   float64       \n",
      " 28  SH.TBS.INCD        10010 non-null  float64       \n",
      " 29  SH.STA.DIAB.ZS     10075 non-null  float64       \n",
      " 30  SP.DYN.LE00.IN     10010 non-null  float64       \n",
      "dtypes: datetime64[ns](1), float64(27), int64(2), object(1)\n",
      "memory usage: 2.8+ MB\n"
     ]
    }
   ],
   "source": [
    "cvwdi=pd.merge(country.reset_index(), wdi, how='left', on=\"Country/Region\", validate=\"many_to_one\")\n",
    "cvwdi.info()"
   ]
  },
  {
   "cell_type": "markdown",
   "metadata": {},
   "source": [
    "## Predicting growth rates\n",
    "\n",
    "We will now try to predict the daily growth rate in cases from current\n",
    "cases and country characteristics. Our model will predict that\n",
    "countries with similar characteristics will have similar case growth\n",
    "rates given current cases."
   ]
  },
  {
   "cell_type": "code",
   "execution_count": 7,
   "metadata": {
    "hide-output": false
   },
   "outputs": [],
   "source": [
    " def prepdata(cvwdi=cvwdi, lags=0, includedays=True, casemin=0):\n",
    "     df=cvwdi.set_index(\"Date\")\n",
    "     df=df.query(f\"cases >= {casemin}\")\n",
    "     df[\"case_growth_rate\"]=-df.groupby(\"Country/Region\")[\"cases\"].diff(-1)/df[\"cases\"]\n",
    "\n",
    "     for l in range(lags) :\n",
    "         df[f\"case_L{l+1}\"] = df.groupby(\"Country/Region\")[\"cases\"].shift(l)\n",
    "\n",
    "     df = df.replace([np.inf, -np.inf], np.nan)\n",
    "     # Drop indicators that are missing often and/or not useful\n",
    "     df= df.drop(columns=[\"Lat\",\"Long\"])\n",
    "     df=df.dropna()\n",
    "     df = df.reset_index()\n",
    "     if (includedays):\n",
    "         df[\"daysfromstart\"] = (df[\"Date\"] - df[\"Date\"].min()).dt.days\n",
    "     df=df.set_index([\"Country/Region\",\"Date\"])\n",
    "     X = df.drop(columns=[\"case_growth_rate\",\"recoveries\",\"deaths\"]).copy()\n",
    "     for col in list(X):\n",
    "         X[col] = X[col].astype(float)\n",
    "\n",
    "     y = df[\"case_growth_rate\"]\n",
    "\n",
    "     return(X,y)\n",
    "\n",
    "X, y = prepdata(cvwdi)"
   ]
  },
  {
   "cell_type": "markdown",
   "metadata": {},
   "source": [
    "Since we our data has a time dimension, and we want to use our model\n",
    "to predict the future, we should create test and training subsets that\n",
    "reflect this. Rather than splitting observations randomly (like\n",
    "`model_selection.train_test_split`), we will use the 3 most\n",
    "recent days as a test sample and the remaining for training."
   ]
  },
  {
   "cell_type": "code",
   "execution_count": 8,
   "metadata": {
    "hide-output": false
   },
   "outputs": [
    {
     "data": {
      "text/plain": [
       "(3162, 2823, 339)"
      ]
     },
     "execution_count": 8,
     "metadata": {},
     "output_type": "execute_result"
    }
   ],
   "source": [
    "from datetime import timedelta\n",
    "\n",
    "def panel_train_test_split(X,y, testdays=5):\n",
    "    lastday = X.reset_index()[\"Date\"].max()\n",
    "    cutoff = lastday - timedelta(days=testdays)\n",
    "    X_test = X.query(f'Date > \"{cutoff}\"')\n",
    "    X_train = X.query(f'Date <= \"{cutoff}\"')\n",
    "    y_test = y[X_test.index]\n",
    "    y_train = y[X_train.index]\n",
    "    return(X_train, X_test, y_train, y_test)\n",
    "\n",
    "X_train, X_test, y_train, y_test = panel_train_test_split(X,y, testdays=3)\n",
    "len(y), len(y_train), len(y_test)"
   ]
  },
  {
   "cell_type": "markdown",
   "metadata": {},
   "source": [
    "To begin with, we will use Lasso to predict growth rates. You may want\n",
    "to experiment with other prediction methods."
   ]
  },
  {
   "cell_type": "code",
   "execution_count": 9,
   "metadata": {
    "hide-output": false
   },
   "outputs": [
    {
     "data": {
      "text/plain": [
       "{'mse_train': 0.42368421396922223, 'mse_test': 0.10063370147419942}"
      ]
     },
     "execution_count": 9,
     "metadata": {},
     "output_type": "execute_result"
    }
   ],
   "source": [
    "mod=pipeline.make_pipeline(\n",
    "    preprocessing.StandardScaler(),  # this will do the input scaling\n",
    "    linear_model.LassoCV(cv=5)       # put your favorite model here\n",
    ")\n",
    "mod.fit(X_train,y_train)\n",
    "dict(mse_train=metrics.mean_squared_error(y_train, mod.predict(X_train)),\n",
    "     mse_test=metrics.mean_squared_error(y_test, mod.predict(X_test)))"
   ]
  },
  {
   "cell_type": "markdown",
   "metadata": {},
   "source": [
    "From the Lasso coefficients, we can somewhat understand the implications for case growth."
   ]
  },
  {
   "cell_type": "code",
   "execution_count": 10,
   "metadata": {
    "hide-output": false
   },
   "outputs": [
    {
     "data": {
      "text/plain": [
       "cases               -0.016271\n",
       "SP.POP.TOTL         -0.000000\n",
       "SP.POP.DPND.OL      -0.000000\n",
       "SP.POP.DPND.YG       0.000000\n",
       "EN.POP.DNST         -0.000000\n",
       "BG.GSR.NFSV.GD.ZS    0.000000\n",
       "SP.URB.GROW          0.000000\n",
       "SP.URB.TOTL         -0.000000\n",
       "NY.GDP.MKTP.KD.ZG    0.000000\n",
       "NY.GDP.PCAP.KD.ZG   -0.000000\n",
       "SM.POP.TOTL         -0.000000\n",
       "BX.TRF.PWKR.CD.DT   -0.001817\n",
       "BM.TRF.PWKR.CD.DT   -0.000000\n",
       "ST.INT.ARVL         -0.000000\n",
       "ST.INT.RCPT.CD      -0.000000\n",
       "ST.INT.XPND.CD      -0.000000\n",
       "SH.XPD.CHEX.PC.CD    0.000000\n",
       "SH.XPD.OOPC.CH.ZS   -0.000000\n",
       "SH.MED.PHYS.ZS       0.000000\n",
       "SH.MED.NUMW.P3       0.000000\n",
       "SH.PRV.SMOK.MA      -0.003513\n",
       "SH.PRV.SMOK.FE       0.000000\n",
       "SH.TBS.INCD         -0.000000\n",
       "SH.STA.DIAB.ZS       0.000000\n",
       "SP.DYN.LE00.IN      -0.000000\n",
       "daysfromstart        0.052191\n",
       "dtype: float64"
      ]
     },
     "execution_count": 10,
     "metadata": {},
     "output_type": "execute_result"
    }
   ],
   "source": [
    "lasso_coefs = pd.Series(dict(zip(list(X), mod.steps[1][1].coef_)))\n",
    "lasso_coefs"
   ]
  },
  {
   "cell_type": "markdown",
   "metadata": {},
   "source": [
    "The only features that will vary over time are the date and the number\n",
    "of cases. We see that we have positive coefficient on date. The growth\n",
    "rate has tended to increase over time. Note that even with a constant\n",
    "growth rate, the growth of the number of cases is exponential and will\n",
    "quickly become extremely large.\n",
    "\n",
    "However, offsetting the positive date coefficient is a negative\n",
    "coefficient on cases. As the number of cases increases, the growth\n",
    "rate slows down. This is a typical feature of models of\n",
    "epidemics. Eventually everyone who can get infected is infected and\n",
    "the growth in cases plateaus.  It is somewhat neat that this feature\n",
    "of epidemiological model shows up in the data just from our simple\n",
    "prediction model."
   ]
  },
  {
   "cell_type": "markdown",
   "metadata": {},
   "source": [
    "### Fit of Predictions"
   ]
  },
  {
   "cell_type": "code",
   "execution_count": 11,
   "metadata": {
    "hide-output": false
   },
   "outputs": [
    {
     "data": {
      "image/png": "[encoded data removed]",
      "text/plain": [
       "<Figure size 432x288 with 1 Axes>"
      ]
     },
     "metadata": {},
     "output_type": "display_data"
    }
   ],
   "source": [
    "fig, ax = plt.subplots()\n",
    "tmp = y.reset_index()\n",
    "colors = qeds.themes.COLOR_CYCLE\n",
    "ax.scatter(tmp[\"Date\"],tmp[\"case_growth_rate\"], color=colors[0], label='observed')\n",
    "ax.scatter(X_train.reset_index()[\"Date\"],mod.predict(X_train), color=colors[1],alpha=0.6, label='predicted, training')\n",
    "ax.scatter(X_test.reset_index()[\"Date\"],mod.predict(X_test), color=colors[2],alpha=0.6, label='predicted, test')\n",
    "ax.set_ylim((0,2))\n",
    "ax.legend()\n",
    "ax.set_title(\"Observed and Predicted Case Growth Rates\")\n",
    "ax.set_ylabel(\"Daily Case Growth Rate\")\n",
    "ax.set_xlabel(\"Date\")\n",
    "ax.xaxis.set_tick_params(rotation=60)"
   ]
  },
  {
   "cell_type": "markdown",
   "metadata": {},
   "source": [
    "Looking at predicted growth rates vs date, the model seems to be doing\n",
    "a reasonable job. The predicted growth rates are within a reasonable\n",
    "range. Notice the general increasing trend in growth rates. This will\n",
    "make the longer term predictions of the model look quite dire."
   ]
  },
  {
   "cell_type": "code",
   "execution_count": 12,
   "metadata": {
    "hide-output": false
   },
   "outputs": [
    {
     "data": {
      "image/png": "[encoded data removed]",
      "text/plain": [
       "<Figure size 432x288 with 1 Axes>"
      ]
     },
     "metadata": {},
     "output_type": "display_data"
    }
   ],
   "source": [
    "fig, ax = plt.subplots()\n",
    "ax.scatter(X[\"cases\"],y, color=colors[0],label='observed')\n",
    "ax.scatter(X_train[\"cases\"],mod.predict(X_train), color=colors[1],alpha=0.7,label='predicted, training')\n",
    "ax.scatter(X_test[\"cases\"],mod.predict(X_test), color=colors[2], alpha=0.7, label='predicted, test')\n",
    "ax.legend()\n",
    "ax.set_ylim((0,2))\n",
    "ax.set_title(\"Observed and Predicted Case Growth Rates\")\n",
    "ax.set_ylabel(\"Daily Case Growth Rate\")\n",
    "ax.set_xlabel(\"Current Cases\")\n",
    "ax.xaxis.set_tick_params(rotation=60)"
   ]
  },
  {
   "cell_type": "markdown",
   "metadata": {},
   "source": [
    "The fit of predictions versus current cases are not quite so good. We\n",
    "see that the model often overpredicts growth rates for cases between\n",
    "roughly one and ten thousand. This is likely driven by the few large\n",
    "growth rates that can occur with very few cases. Our model might be\n",
    "improved by letting current cases enter more flexibly."
   ]
  },
  {
   "cell_type": "markdown",
   "metadata": {},
   "source": [
    "### Predicted Case Trajectories\n",
    "\n",
    "Our model gives a prediction of the growth rate of cases from today to\n",
    "tomorrow as a function of current cases and country\n",
    "characteristics. We can use the model to predict cases multiple days\n",
    "into the future by repeatedly predicting growth given cases, updating\n",
    "cases, and repeating."
   ]
  },
  {
   "cell_type": "code",
   "execution_count": 13,
   "metadata": {
    "hide-output": false
   },
   "outputs": [
    {
     "data": {
      "image/png": "[encoded data removed]",
      "text/plain": [
       "<Figure size 432x288 with 1 Axes>"
      ]
     },
     "metadata": {},
     "output_type": "display_data"
    }
   ],
   "source": [
    " def predict_path(x0, mod, days=28):\n",
    "     x = x0\n",
    "     y = np.zeros(days+1)\n",
    "     y[0] = x[\"cases\"]\n",
    "     for d in range(days) :\n",
    "         y[d+1] = (mod.predict(x)+1)*x[\"cases\"]\n",
    "         # update x\n",
    "         l = 1\n",
    "         while (f\"cases_L{l}\" in x.columns):\n",
    "             if l==1 :\n",
    "                 x[f\"cases_L{l}\"] = x[\"cases\"]\n",
    "             else :\n",
    "                 x[f\"cases_L{l}\"] = x[f\"cases_L{l-1}\"]\n",
    "             l = l+1\n",
    "         x[\"cases\"]=y[d+1]\n",
    "         if (\"daysfromstart\" in x.columns):\n",
    "             x[\"daysfromstart\"]=x[\"daysfromstart\"]+1\n",
    "\n",
    "     fig, ax = plt.subplots()\n",
    "     ax.plot(range(len(y)),y)\n",
    "     ax.set_title(f\"Predicted Cases in {country}\")\n",
    "     ax.set_xlabel('days from now')\n",
    "     ax.set_ylabel('cases')\n",
    "     return(y, fig, ax)\n",
    "\n",
    "country=\"Canada\"\n",
    "yhat, fig, ax=predict_path(X.xs(country).tail(1).copy(), mod, days=30)"
   ]
  },
  {
   "cell_type": "markdown",
   "metadata": {},
   "source": [
    "Note that we are taking a model trained to predict one day ahead and\n",
    "using it to predict 30 days into the future. This is asking an awful\n",
    "lot of the model. Also, we have seen above some obvious deficiencies\n",
    "in model fit. Therefore, these predictions come with some large\n",
    "caveats. Nonetheless, they do give some idea how the number of cases\n",
    "might grow if Corona virus spreads in Canada in a similar way to it\n",
    "has elsewhere.\n",
    "\n",
    "\n",
    "<a id='exercise-0'></a>\n",
    "> See exercise 1 in the [*exercise list*](#exerciselist-0)\n",
    "\n",
    "\n",
    "\n",
    "<a id='exercise-1'></a>\n",
    "> See exercise 2 in the [*exercise list*](#exerciselist-0)"
   ]
  },
  {
   "cell_type": "markdown",
   "metadata": {},
   "source": [
    "## Exercises\n",
    "\n",
    "\n",
    "<a id='exerciselist-0'></a>\n",
    "**Exercise 1**\n",
    "\n",
    "Examine the model's predictions for other countries."
   ]
  },
  {
   "cell_type": "code",
   "execution_count": 14,
   "metadata": {
    "hide-output": false
   },
   "outputs": [],
   "source": [
    "# your code here"
   ]
  },
  {
   "cell_type": "markdown",
   "metadata": {},
   "source": [
    "([*back to text*](#exercise-0))\n",
    "\n",
    "**Exercise 2**\n",
    "\n",
    "Try pedicting case growth rates with other regression methods."
   ]
  },
  {
   "cell_type": "code",
   "execution_count": 15,
   "metadata": {
    "hide-output": false
   },
   "outputs": [],
   "source": [
    "# your code here"
   ]
  },
  {
   "cell_type": "markdown",
   "metadata": {},
   "source": [
    "([*back to text*](#exercise-1))"
   ]
  }
 ],
 "metadata": {
  "@webio": {
   "lastCommId": "ff23a7f3604944728ff765e4a74cec1a",
   "lastKernelId": "b4bf556b-e383-4e42-9ef0-f73d6c5cfaa7"
  },
  "date": 1585348725.1890686,
  "filename": "covid-prediction.rst",
  "kernelspec": {
   "display_name": "Python 3",
   "language": "python",
   "name": "python3"
  },
  "language_info": {
   "codemirror_mode": {
    "name": "ipython",
    "version": 3
   },
   "file_extension": ".py",
   "mimetype": "text/x-python",
   "name": "python",
   "nbconvert_exporter": "python",
   "pygments_lexer": "ipython3",
   "version": "3.8.2"
  },
  "title": "Predicting Corona Virus"
 },
 "nbformat": 4,
 "nbformat_minor": 2
}
