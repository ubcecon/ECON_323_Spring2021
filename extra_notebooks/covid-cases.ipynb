{
 "cells": [
  {
   "cell_type": "markdown",
   "metadata": {},
   "source": [
    "# Corona Virus Case Details\n",
    "\n",
    "> **Authors**\n",
    "- [Paul Schrimpf *UBC*](https://economics.ubc.ca/faculty-and-staff/paul-schrimpf/)\n",
    "\n",
    "\n",
    "**Prerequisites**\n",
    "\n",
    "- [Regression](regression.ipynb)  \n",
    "- [Data Visualization: Rules and Guidelines](visualization_rules.ipynb)  \n",
    "- [Visualizing Corona Virus](covid-trends.ipynb)  \n",
    "\n",
    "\n",
    "**Outcomes**\n",
    "\n",
    "- Estimate Corona Virus mortality rates conditional on age.  "
   ]
  },
  {
   "cell_type": "markdown",
   "metadata": {},
   "source": [
    "## Outline\n",
    "\n",
    "- [Corona Virus Case Details](#Corona-Virus-Case-Details)  \n",
    "  - [Introduction](#Introduction)  \n",
    "  - [Data](#Data)  \n",
    "  - [Exercises](#Exercises)  "
   ]
  },
  {
   "cell_type": "code",
   "execution_count": 1,
   "metadata": {
    "hide-output": false
   },
   "outputs": [],
   "source": [
    "# Uncomment following line to install on colab\n",
    "#! pip install qeds fiona geopandas xgboost gensim folium pyLDAvis descartes"
   ]
  },
  {
   "cell_type": "markdown",
   "metadata": {},
   "source": [
    "## Introduction\n",
    "\n",
    "This notebook works with Covid-19 case details. A handful of\n",
    "countries/places are releasing some details about people with\n",
    "confirmed cases of Covid-19. Specifically, [Singapore](https://www.wuhanvirus.sg/cases/search), [Hong Kong](https://wars.vote4.hk/en/cases), [South Korea](https://github.com/jihoo-kim/Coronavirus-Dataset/), and [the\n",
    "Phillipines](https://coronavirus-ph-api.now.sh/cases) provide case\n",
    "by case information on age, gender, and a few other\n",
    "variables. Liquiddata, the company that created Dolthub, aggregates\n",
    "and updates this data every hour.  The combined data is available [on\n",
    "dolthub](https://www.dolthub.com/repositories/Liquidata/corona-virus)."
   ]
  },
  {
   "cell_type": "code",
   "execution_count": 2,
   "metadata": {
    "hide-output": false
   },
   "outputs": [],
   "source": [
    "import pandas as pd\n",
    "import numpy as np\n",
    "import matplotlib.pyplot as plt\n",
    "from sklearn import (\n",
    "    linear_model, metrics, neural_network, pipeline, model_selection, preprocessing\n",
    ")\n",
    "\n",
    "%matplotlib inline\n",
    "# activate plot theme\n",
    "import qeds\n",
    "qeds.themes.mpl_style();\n",
    "colors = qeds.themes.COLOR_CYCLE\n",
    "import urllib.request\n",
    "import zipfile"
   ]
  },
  {
   "cell_type": "markdown",
   "metadata": {},
   "source": [
    "## Data\n",
    "\n",
    "Getting data off dolthub requires installing dolt. Since this is not\n",
    "easy to do on a jupyter server, we have installed dolt on another\n",
    "server. That server downloads data from dolt, and uploads it to\n",
    "[http://faculty.arts.ubc.ca/pschrimpf/covid_case_details.zip](http://faculty.arts.ubc.ca/pschrimpf/covid_case_details.zip) . This\n",
    "gets updated every three hours. The dolt commands to get the data are\n",
    "below. You should not need to run these yourself."
   ]
  },
  {
   "cell_type": "code",
   "execution_count": 3,
   "metadata": {
    "hide-output": false
   },
   "outputs": [],
   "source": [
    "#!dolt clone Liquidata/corona-virus  # Only run once\n",
    "#!cd corona-virus\n",
    "#!dolt pull\n",
    "#!dolt checkout master\n",
    "#!dolt table export case_details case_details.csv\n",
    "#!dolt table export places places.csv\n",
    "#!dolt checkout case_details_virological_dot_org\n",
    "#!dolt table export case_details case_details_v.csv\n",
    "#!zip covid_case_details.zip *.csv"
   ]
  },
  {
   "cell_type": "markdown",
   "metadata": {},
   "source": [
    "We can just download the copy of the data created by the commands above."
   ]
  },
  {
   "cell_type": "code",
   "execution_count": 4,
   "metadata": {
    "hide-output": false
   },
   "outputs": [
    {
     "name": "stdout",
     "output_type": "stream",
     "text": [
      "<class 'pandas.core.frame.DataFrame'>\n",
      "Int64Index: 49861 entries, 0 to 49860\n",
      "Data columns (total 15 columns):\n",
      " #   Column            Non-Null Count  Dtype  \n",
      "---  ------            --------------  -----  \n",
      " 0   source            49861 non-null  object \n",
      " 1   case_id           49861 non-null  int64  \n",
      " 2   case_name         43377 non-null  object \n",
      " 3   age               5384 non-null   float64\n",
      " 4   sex               5373 non-null   object \n",
      " 5   nationality       2579 non-null   object \n",
      " 6   current_status    3066 non-null   object \n",
      " 7   symptomatic_date  1250 non-null   object \n",
      " 8   confirmed_date    47258 non-null  object \n",
      " 9   recovered_date    418 non-null    object \n",
      " 10  place_id          12799 non-null  float64\n",
      " 11  province_state    3088 non-null   object \n",
      " 12  country_region    12799 non-null  object \n",
      " 13  latitude          12799 non-null  float64\n",
      " 14  longitude         12799 non-null  float64\n",
      "dtypes: float64(4), int64(1), object(10)\n",
      "memory usage: 6.1+ MB\n"
     ]
    }
   ],
   "source": [
    "import io\n",
    "\n",
    "url = 'http://faculty.arts.ubc.ca/pschrimpf/covid_case_details.zip'\n",
    "\n",
    "with zipfile.ZipFile(io.BytesIO(urllib.request.urlopen(url).read())) as zip :\n",
    "    places = pd.read_csv(zip.open('places.csv'))\n",
    "    cases = pd.read_csv(zip.open('case_details_v.csv'))\n",
    "    #cases0 = pd.read_csv(zip.open('case_details.csv'))\n",
    "\n",
    "cases = pd.merge(cases, places, how=\"left\", on=\"place_id\")\n",
    "cases.info()"
   ]
  },
  {
   "cell_type": "markdown",
   "metadata": {},
   "source": [
    "### Mortality by Age\n",
    "\n",
    "We can use this data to calculate mortality conditional on age."
   ]
  },
  {
   "cell_type": "code",
   "execution_count": 5,
   "metadata": {
    "hide-output": false
   },
   "outputs": [
    {
     "data": {
      "text/plain": [
       "False    2937\n",
       "True      129\n",
       "Name: dead, dtype: int64"
      ]
     },
     "execution_count": 5,
     "metadata": {},
     "output_type": "execute_result"
    }
   ],
   "source": [
    "cases[\"dead\"] = np.nan\n",
    "cases[\"dead\"] = cases.current_status.str.contains(\"Deceased|deceased|dead\")\n",
    "cases.dead.value_counts()"
   ]
  },
  {
   "cell_type": "markdown",
   "metadata": {},
   "source": [
    "Below we will divide ages into a bunch of bins, compute the average\n",
    "mortality in each bin, and plot it. The shaded area is a 95%\n",
    "point-wise confidence interval."
   ]
  },
  {
   "cell_type": "code",
   "execution_count": 6,
   "metadata": {
    "hide-output": false
   },
   "outputs": [
    {
     "data": {
      "text/plain": [
       "(0.0, 0.4)"
      ]
     },
     "execution_count": 6,
     "metadata": {},
     "output_type": "execute_result"
    },
    {
     "data": {
      "image/png": "[encoded data removed]",
      "text/plain": [
       "<Figure size 432x288 with 1 Axes>"
      ]
     },
     "metadata": {},
     "output_type": "display_data"
    }
   ],
   "source": [
    "agebins = [0, 20, 30, 40, 50, 55, 60, 65, 70, 75, 80, 85, 110]\n",
    "fig, ax = plt.subplots()\n",
    "for i in range(len(agebins)-1):\n",
    "    mrate = np.mean(cases.query(f\"age>={agebins[i]} and age<{agebins[i+1]}\").dead)\n",
    "    n = cases.query(f\"age>={agebins[i]} and age<{agebins[i+1]}\").dead.count()\n",
    "    se = np.sqrt(mrate*(1-mrate)/n)\n",
    "    ax.plot(agebins[i:(i+2)], [mrate, mrate], color=colors[0])\n",
    "    ax.fill_between(agebins[i:(i+2)], [mrate-1.96*se, mrate-1.96*se],\n",
    "                    [mrate+1.96*se, mrate+1.96*se], alpha=0.2, color=colors[0])\n",
    "\n",
    "ax.set_title(\"Mortality by Age\")\n",
    "ax.set_xlabel(\"Age\")\n",
    "ax.set_ylabel(\"Mortality Rate\")\n",
    "ax.set_xlim((0,90))\n",
    "ax.set_ylim((0,0.4))"
   ]
  },
  {
   "cell_type": "markdown",
   "metadata": {},
   "source": [
    "We can accomplish something similar using seaborn. Here, in addition\n",
    "to plotting binned averages, we show the fit from a regression of\n",
    "death on a 5th degree polynomial of age."
   ]
  },
  {
   "cell_type": "code",
   "execution_count": 7,
   "metadata": {
    "hide-output": false
   },
   "outputs": [
    {
     "data": {
      "text/plain": [
       "Text(0, 0.5, 'Mortality Rate')"
      ]
     },
     "execution_count": 7,
     "metadata": {},
     "output_type": "execute_result"
    },
    {
     "data": {
      "image/png": "[encoded data removed]",
      "text/plain": [
       "<Figure size 432x288 with 1 Axes>"
      ]
     },
     "metadata": {},
     "output_type": "display_data"
    }
   ],
   "source": [
    "import seaborn as sns\n",
    "df = cases[['age','dead']].copy()\n",
    "df.loc[:,'dead'] = df['dead'].astype(float)\n",
    "ax=sns.regplot(x='age',y='dead', data=df,x_bins=20,  logistic=False, order=5)\n",
    "ax.set_xlim((0,90))\n",
    "ax.set_ylim((0,0.4))\n",
    "ax.set_title(\"Mortality by Age\")\n",
    "ax.set_xlabel(\"Age\")\n",
    "ax.set_ylabel(\"Mortality Rate\")"
   ]
  },
  {
   "cell_type": "markdown",
   "metadata": {},
   "source": [
    "\n",
    "<a id='exercise-0'></a>\n",
    "> See exercise 1 in the [*exercise list*](#exerciselist-0)"
   ]
  },
  {
   "cell_type": "markdown",
   "metadata": {},
   "source": [
    "## Exercises\n",
    "\n",
    "\n",
    "<a id='exerciselist-0'></a>\n",
    "**Exercise 1**\n",
    "\n",
    "Create tables and/or figures showing mortality rates by gender."
   ]
  },
  {
   "cell_type": "code",
   "execution_count": 8,
   "metadata": {
    "hide-output": false
   },
   "outputs": [],
   "source": [
    "# your code here"
   ]
  },
  {
   "cell_type": "markdown",
   "metadata": {},
   "source": [
    "([*back to text*](#exercise-0))"
   ]
  }
 ],
 "metadata": {
  "@webio": {
   "lastCommId": "dde18fde0e524a338809a0b229a995f9",
   "lastKernelId": "0a46cfef-3aa2-4cb0-9580-c17974d2ab80"
  },
  "date": 1585348613.4106464,
  "filename": "covid-cases.rst",
  "kernelspec": {
   "display_name": "Python 3",
   "language": "python",
   "name": "python3"
  },
  "language_info": {
   "codemirror_mode": {
    "name": "ipython",
    "version": 3
   },
   "file_extension": ".py",
   "mimetype": "text/x-python",
   "name": "python",
   "nbconvert_exporter": "python",
   "pygments_lexer": "ipython3",
   "version": "3.8.2"
  },
  "title": "Corona Virus Case Details"
 },
 "nbformat": 4,
 "nbformat_minor": 2
}
